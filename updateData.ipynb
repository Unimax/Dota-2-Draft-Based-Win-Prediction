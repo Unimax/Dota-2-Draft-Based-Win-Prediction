{
 "cells": [
  {
   "cell_type": "code",
   "execution_count": 2,
   "metadata": {
    "collapsed": true,
    "pycharm": {
     "is_executing": false
    }
   },
   "outputs": [],
   "source": [
    "import numpy as np\n",
    "import pandas as pd"
   ]
  },
  {
   "cell_type": "code",
   "execution_count": null,
   "outputs": [],
   "source": [
    "data = pd.read_csv('OrignalData.csv', header=None,\n",
    "                   names=['H1', 'H2', 'H3', 'H4', 'H5', 'H6', 'H7', 'H8', 'H9', 'H10', 'WIN'])\n",
    "\n",
    "np.sum(data['WIN'] == 't')"
   ],
   "metadata": {
    "collapsed": false,
    "pycharm": {
     "name": "#%%\n"
    }
   }
  },
  {
   "cell_type": "code",
   "execution_count": 2,
   "outputs": [
    {
     "data": {
      "text/plain": "12068"
     },
     "metadata": {},
     "output_type": "execute_result",
     "execution_count": 2
    }
   ],
   "source": [
    "np.sum(data['WIN'] == 'f')\n"
   ],
   "metadata": {
    "collapsed": false,
    "pycharm": {
     "name": "#%%\n",
     "is_executing": false
    }
   }
  },
  {
   "cell_type": "code",
   "execution_count": 3,
   "outputs": [
    {
     "data": {
      "text/plain": "54.993660028343406"
     },
     "metadata": {},
     "output_type": "execute_result",
     "execution_count": 3
    }
   ],
   "source": [
    "np.sum(data['WIN'] == 't')/(np.sum(data['WIN'] == 'f')+np.sum(data['WIN'] == 't'))*100"
   ],
   "metadata": {
    "collapsed": false,
    "pycharm": {
     "name": "#%%\n",
     "is_executing": false
    }
   }
  },
  {
   "cell_type": "code",
   "execution_count": 4,
   "outputs": [],
   "source": [
    "columnsTitles = ['H6', 'H7', 'H8', 'H9', 'H10','H1', 'H2', 'H3', 'H4', 'H5', 'WIN']\n",
    "newData = data.reindex(columns=columnsTitles)\n",
    "newData.loc[(newData.WIN == 'f'),'WIN']=1\n",
    "newData.loc[(newData.WIN == 't'),'WIN']=0\n",
    "np.sum(newData['WIN'] == 1)/(np.sum(newData['WIN'] == 0)+np.sum(newData['WIN'] == 1))*100\n",
    "\n",
    "newData.to_csv(\"reorderedData.csv\",header=False,index=False)\n",
    "\n",
    "data.loc[(data.WIN == 'f'),'WIN']=0\n",
    "data.loc[(data.WIN == 't'),'WIN']=1\n",
    "data.to_csv()\n",
    "data.to_csv(\"intitialData.csv\",header=False,index=False)\n"
   ],
   "metadata": {
    "collapsed": false,
    "pycharm": {
     "name": "#%%\n",
     "is_executing": false
    }
   }
  },
  {
   "cell_type": "code",
   "execution_count": 5,
   "outputs": [],
   "source": [
    "finalData = pd.read_csv('finalData.csv', header=None,\n",
    "                   names=['H1', 'H2', 'H3', 'H4', 'H5', 'H6', 'H7', 'H8', 'H9', 'H10', 'WIN'])\n",
    "\n",
    "# t1_sum, t2_total_sum,t1-t2,\n",
    "finalData['t1_sum'] = finalData['H1']+finalData['H2']+finalData['H3']+finalData['H4']+finalData['H5']\n",
    "finalData['t2_sum'] = finalData['H10']+finalData['H6']+finalData['H7']+finalData['H8']+finalData['H9']\n",
    "finalData['t1_dif_t2'] = finalData['t1_sum']-finalData['t2_sum']\n",
    "cTitles = ['H1', 'H2', 'H3', 'H4', 'H5','H6', 'H7', 'H8', 'H9', 'H10','t1_sum', 't2_sum','t1_dif_t2','WIN']\n",
    "\n",
    "finalExtraColumnsData=finalData.reindex(columns=cTitles)\n",
    "\n",
    "\n",
    "finalExtraColumnsData.to_csv(\"finalExtraColumnsData.csv\",header=False,index=False)\n"
   ],
   "metadata": {
    "collapsed": false,
    "pycharm": {
     "name": "#%%\n",
     "is_executing": false
    }
   }
  },
  {
   "cell_type": "code",
   "execution_count": null,
   "outputs": [],
   "source": [
    "finalData = pd.read_csv('finalData.csv', header=None,\n",
    "                   names=['H1', 'H2', 'H3', 'H4', 'H5', 'H6', 'H7', 'H8', 'H9', 'H10', 'WIN'])\n",
    "\n",
    "# t1_sum, t2_total_sum,t1-t2,\n",
    "finalData['t1_sum'] = finalData['H1']+finalData['H2']+finalData['H3']+finalData['H4']+finalData['H5']\n",
    "finalData['t2_sum'] = finalData['H10']+finalData['H6']+finalData['H7']+finalData['H8']+finalData['H9']\n",
    "finalData['t1_dif_t2'] = finalData['t1_sum']-finalData['t2_sum']\n",
    "cTitles = ['H1', 'H2', 'H3', 'H4', 'H5','H6', 'H7', 'H8', 'H9', 'H10','t1_sum', 't2_sum','t1_dif_t2','WIN']\n",
    "\n",
    "finalExtraColumnsData=finalData.reindex(columns=cTitles)\n",
    "finalExtraColumnsData.to_csv(\"finalExtraColumnsData.csv\", header=False, index=False)\n",
    "\n",
    "finalData = pd.read_csv('finalData.csv', header=None,\n",
    "                   names=['H1', 'H2', 'H3', 'H4', 'H5', 'H6', 'H7', 'H8', 'H9', 'H10', 'WIN'])\n",
    "\n"
   ],
   "metadata": {
    "collapsed": false,
    "pycharm": {
     "name": "#%%\n"
    }
   }
  }
 ],
 "metadata": {
  "kernelspec": {
   "display_name": "Python 3",
   "language": "python",
   "name": "python3"
  },
  "language_info": {
   "codemirror_mode": {
    "name": "ipython",
    "version": 2
   },
   "file_extension": ".py",
   "mimetype": "text/x-python",
   "name": "python",
   "nbconvert_exporter": "python",
   "pygments_lexer": "ipython2",
   "version": "2.7.6"
  },
  "pycharm": {
   "stem_cell": {
    "cell_type": "raw",
    "source": [],
    "metadata": {
     "collapsed": false
    }
   }
  }
 },
 "nbformat": 4,
 "nbformat_minor": 0
}